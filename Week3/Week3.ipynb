{
 "cells": [
  {
   "cell_type": "markdown",
   "metadata": {},
   "source": [
    "# Döngüler"
   ]
  },
  {
   "cell_type": "markdown",
   "metadata": {},
   "source": [
    "Python'da if-elif-else gibi ifadeleri kullanırken program, yapmasını istediğimiz görevi bir kez yaptıktan sonra sonlanır. Aynı şekilde input-print fonksiyonlarını kullanırken de almak istediğimiz her girdi için ayrı bir input fonksiyonu, yaptığımız her ayrı işlemin çıktısını görmek için de ayrı bir print fonksiyonu kullanılır. \n",
    "\n",
    "Örneğin verilen 4 ayrı sayının toplamı istendiğinde Python'da aşağıdaki gibi bir kod kullanılabilir:"
   ]
  },
  {
   "cell_type": "code",
   "execution_count": null,
   "metadata": {},
   "outputs": [],
   "source": [
    "birinci_sayi = int(input(\"Lütfen 1. sayıyı giriniz: \"))\n",
    "ikinci_sayi = int(input(\"Lütfen 2. sayıyı giriniz: \"))\n",
    "ucuncu_sayi = int(input(\"Lütfen 3. sayıyı giriniz: \"))\n",
    "dorduncu_sayi = int(input(\"Lütfen 4. sayıyı giriniz: \"))\n",
    "\n",
    "print(\"Sayıların toplamı: \", birinci_sayi + ikinci_sayi + ucuncu_sayi + dorduncu_sayi)"
   ]
  },
  {
   "cell_type": "markdown",
   "metadata": {},
   "source": [
    "Buradaki örnekte yapılacak işlem sayısı belli ve azdır. Ancak yapılacak işlem sayısı arttıkça (örneğin 100 sayı verilip toplamı istendiğinde) aynı işlemleri bu şekilde yapmak programcı için vakit alır.\n",
    "\n",
    "\n",
    "Veya örneğin kullanıcıdan tuttuğumuz sayıyı tahmin etmesini isteyen bir program yazalım:\n"
   ]
  },
  {
   "cell_type": "code",
   "execution_count": null,
   "metadata": {},
   "outputs": [],
   "source": [
    "tutulan_sayi = 5\n",
    "tahmin = int(input(\"Lütfen 1 ile 10 arasında bir sayı giriniz: \"))\n",
    "\n",
    "\n",
    "if tahmin == tutulan_sayi:\n",
    "    print(\"Tebrikler, doğru tahmin!\")\n",
    "else:\n",
    "    print(\"Üzgünüz, tekrar deneyin!\")"
   ]
  },
  {
   "cell_type": "markdown",
   "metadata": {},
   "source": [
    "Burada ise kullanıcı doğru tahmini girerse program tebrik mesajı verecek fakat yanlış girdiğinde ikinci bir tahmin hakkı olmayacaktır. Program tekrar kullanılmak istenirse baştan başlatılmalıdır. Halbuki program tahmin sonucu doğru gelene kadar çalışabilse baştan başlatmaya gerek kalmaz. \n",
    "\n",
    "Örneklerde gördüldüğü gibi şimdiye kadar yazdığımız programlar bir defa çalışıyor ve sona eriyordu. Ancak biz çoğu zaman programlarımızın belli koşullarda çalışmasını sürekli devam ettirmesini ve işlemlerini tekrar etmesini isteriz.\n",
    "\n",
    "#### Bu gibi belirli bir şarta kadar (sayı veya durum) çalışması istenen programlar yazmak için Python'da döngüler kullanılır.\n"
   ]
  },
  {
   "cell_type": "markdown",
   "metadata": {},
   "source": [
    "# while Döngüsü"
   ]
  },
  {
   "cell_type": "markdown",
   "metadata": {},
   "source": [
    "![title](https://raw.githubusercontent.com/ituitis-averbek18/images/master/week3_whilechart.png)\n",
    "\n",
    "<strong><center>while kullanım algoritması</center></strong>"
   ]
  },
  {
   "cell_type": "markdown",
   "metadata": {},
   "source": [
    "While döngüsü, içine aldığı kod bölümünün tekrarlanmasını \n",
    "sağlar. While döngüsünde kod istenen şart sağlandığı sürece döner. \n",
    "While'ın yapısı:"
   ]
  },
  {
   "cell_type": "code",
   "execution_count": null,
   "metadata": {},
   "outputs": [],
   "source": [
    "#while (koşul):\n",
    "      #işlem1\n",
    "      #İşlem2\n",
    "      #..."
   ]
  },
  {
   "cell_type": "markdown",
   "metadata": {},
   "source": [
    "  şeklindedir. Basit bir örnek olarak:"
   ]
  },
  {
   "cell_type": "code",
   "execution_count": null,
   "metadata": {},
   "outputs": [],
   "source": [
    "n = 1\n",
    "toplam = 0\n",
    "\n",
    "while n < 5:  #döngü; n'in 1, 2, 3 ve 4 değerleri için döner.\n",
    "    toplam += n\n",
    "    n += 1\n",
    "    \n",
    "print(\"1'den 5'e kadar olan rakamların toplamı: \"+str(toplam))"
   ]
  },
  {
   "cell_type": "markdown",
   "metadata": {},
   "source": [
    " Bu örnekte döngünün şartı n değişkeninin 5'ten küçük olmasıdır. İlk olarak döngü şartının sağlanıp sağlanmadığını kontrol edilir ve şart sağlanıyorsa döngünün içine girilir, döngüde n değişkeni önce toplam değişkeniyle toplanır sonrasında da değeri 1 arttırılır ardından başa dönülür ve şart sağlanmayana kadar bu şekilde devam eder."
   ]
  },
  {
   "cell_type": "markdown",
   "metadata": {},
   "source": [
    "While döngülerinde sağlanması istenen şarta ve şartı sağlayan değişkenin değerinin değişip değişmediğine dikkat edilmelidir. Bunlardaki bir yanlışlık yüzünden sonsuz döngüye girilebilir veya döngü hiç \n",
    "çalışmayabilir: "
   ]
  },
  {
   "cell_type": "code",
   "execution_count": null,
   "metadata": {},
   "outputs": [],
   "source": [
    "n = 0\n",
    "\n",
    "while n < 5:\n",
    "    print(n)"
   ]
  },
  {
   "cell_type": "code",
   "execution_count": null,
   "metadata": {},
   "outputs": [],
   "source": [
    "tutulan_sayi = 5\n",
    "tahmin = int(input(\"Lütfen 1 ile 10 arasında bir sayı giriniz: \"))\n",
    "\n",
    "while tahmin != tutulan_sayi:\n",
    "    print(\"Üzgünüz, tekrar deneyin!\") \n",
    "    tahmin = int(input(\"Lütfen 1 ile 10 arasında bir sayı giriniz: \"))\n",
    "      \n",
    "print(\"Tebrikler, doğru tahmin!\")"
   ]
  },
  {
   "cell_type": "markdown",
   "metadata": {},
   "source": [
    "#  for Döngüsü"
   ]
  },
  {
   "cell_type": "markdown",
   "metadata": {},
   "source": [
    "![title](https://raw.githubusercontent.com/ituitis-averbek18/images/master/week3_forchart.png)\n",
    "\n",
    "<strong><center>for kullanım algoritması</center></strong>"
   ]
  },
  {
   "cell_type": "markdown",
   "metadata": {},
   "source": [
    "### in operatörü"
   ]
  },
  {
   "cell_type": "markdown",
   "metadata": {},
   "source": [
    "Pythondaki in operatörü, bir elemanın başka bir listede, demette veya karakter dizilerinde bulunup bulunmadığını kontrol eder ve sonuç olarak Boolean veri tipinde bir değer döndürür:"
   ]
  },
  {
   "cell_type": "code",
   "execution_count": 5,
   "metadata": {},
   "outputs": [
    {
     "name": "stdout",
     "output_type": "stream",
     "text": [
      "True\n",
      "True\n"
     ]
    }
   ],
   "source": [
    "print(\"o\" in \"hello\")\n",
    "print(5 in [1,3,5])"
   ]
  },
  {
   "cell_type": "markdown",
   "metadata": {},
   "source": [
    "For döngüsü de while döngüsü gibi içindeki kodu döndürür ancak while döngüsünden farkı belli bir şartı sağladığı sürece dönmek yerine listelerin, demetlerin, karakter dizilerinin ve hatta sözlüklerin üzerinde dolaşmamızı sağlar. Yapısı şu şekildedir:"
   ]
  },
  {
   "cell_type": "code",
   "execution_count": null,
   "metadata": {},
   "outputs": [],
   "source": [
    "club = \"ITUACM\"\n",
    "\n",
    "for harf in club:\n",
    "    print(harf)"
   ]
  },
  {
   "cell_type": "code",
   "execution_count": null,
   "metadata": {},
   "outputs": [],
   "source": [
    "liste = [4,3,2,1]\n",
    " \n",
    "for eleman in liste:\n",
    "    print(\"Eleman\",eleman)"
   ]
  },
  {
   "cell_type": "code",
   "execution_count": null,
   "metadata": {},
   "outputs": [],
   "source": [
    "meyveler = [\"elma\", \"armut\", \"kiraz\"]\n",
    "for meyve in meyveler:\n",
    "    print(meyve)"
   ]
  },
  {
   "cell_type": "markdown",
   "metadata": {},
   "source": [
    "### range() fonksiyonu"
   ]
  },
  {
   "cell_type": "markdown",
   "metadata": {},
   "source": [
    "range() fonksiyonu; başlangıç, bitiş ve opsiyonel olarak aralığı arttırma değeri alarak bir sayı dizisi oluşturur. Örneğin:"
   ]
  },
  {
   "cell_type": "code",
   "execution_count": 7,
   "metadata": {},
   "outputs": [
    {
     "name": "stdout",
     "output_type": "stream",
     "text": [
      "1\n",
      "2\n",
      "3\n",
      "4\n",
      "5\n"
     ]
    }
   ],
   "source": [
    "for i in range(1,6):\n",
    "    print(i)"
   ]
  },
  {
   "cell_type": "code",
   "execution_count": 1,
   "metadata": {},
   "outputs": [
    {
     "name": "stdout",
     "output_type": "stream",
     "text": [
      "* \n",
      "* * \n",
      "* * * \n",
      "* * * * \n",
      "* * * * * \n",
      "* * * * * * \n",
      "* * * * * * * \n",
      "* * * * * * * * \n"
     ]
    }
   ],
   "source": [
    "for sayi in range(1,9): # kod 1,2,3,4,5,6,7,8 değerleri için dönecek\n",
    "    print(\"* \" * sayi)"
   ]
  },
  {
   "cell_type": "code",
   "execution_count": null,
   "metadata": {
    "scrolled": true
   },
   "outputs": [],
   "source": [
    "for x in range(0, 50, 10):   # 0'dan 50'ye kadar 10'ar artarak giden bir dizi oluşturacak.\n",
    "    print(x)                 "
   ]
  },
  {
   "cell_type": "markdown",
   "metadata": {},
   "source": [
    "## break ve continue "
   ]
  },
  {
   "cell_type": "markdown",
   "metadata": {},
   "source": [
    "### a) break"
   ]
  },
  {
   "cell_type": "markdown",
   "metadata": {},
   "source": [
    "<font color=blue>break</font> ifadesi döngülerde programcılar tarafından en çok kullanılan ifadedir. İşlevini tanımlamak gerekirse:\n",
    "\n",
    "Döngü herhangi bir yerde ve herhangi bir zamanda <font color=blue>break</font> ifadesiyle karşılaştığı zaman\n",
    "çalışmasını bir anda durdurur. Böylelikle döngü hiçbir koşula bağlı kalmadan sonlanmış olur.\n",
    "\n",
    "<font color=blue>break</font> ifadesi sadece ve sadece içinde bulunduğu döngüyü sonlandırır. Eğer iç içe döngüler bulunuyorsa ve en içteki döngüde <font color=blue>break</font> kullanılmışsa sadece içteki döngü sona erer. Örneklerle <font color=blue>break</font> ifadesini anlamaya çalışalım."
   ]
  },
  {
   "cell_type": "code",
   "execution_count": null,
   "metadata": {},
   "outputs": [],
   "source": [
    "fiyat = 40            # alınacak ürünün fiyatı 40 \n",
    "cuzdan = 30           # cüzdanımızda 30 var\n",
    "extra = 5             # extra olarak 5 birim paraya kadar çıkabiliriz \n",
    "\n",
    "while cuzdan < fiyat: # cüzdanımızdaki para alınnacak ürünün fiyatından küçük olduğu sürece cüzdanımıza para lazım\n",
    "    \n",
    "    if extra > 0:     # eğer ekleyebileceğimiz para tükenmediyse \n",
    "        extra -= 1    # ekleyeceğimiz kadar parayı extradan alıp\n",
    "        cuzdan += 1   # cüzdanımıza ekliyoruz\n",
    "        \n",
    "    else:             # eğer extra paramız kalmadıysa \n",
    "        print(\"Yeterli bakiyeniz bulunmamaktadır!\")\n",
    "        break         # döngüden çıkıyoruz\n",
    "        \n",
    "        \n",
    "if cuzdan == fiyat:   # döngü bittikten sonra cüzdanımızda yeterli para varsa ürünü alabiliyoruz\n",
    "    print(\"Güle güle kullanın!\")"
   ]
  },
  {
   "cell_type": "markdown",
   "metadata": {},
   "source": [
    "Burada görüldüğü gibi while programımız cüzdanda yeterli para olmadığı sürece parayı arttırmak için çalışır. Eğer cüzdandaki para fiyata eşitlenirse while satırındaki şart sağlanır ve döngüden kendiliğinden çıkar. Ancak ekstra olarak yeterli birikimimiz kalmadığında break satırına ulaşır ve döngünün içindeyken bitirmiş oluruz.\n"
   ]
  },
  {
   "cell_type": "markdown",
   "metadata": {},
   "source": [
    "### b) continue"
   ]
  },
  {
   "cell_type": "markdown",
   "metadata": {},
   "source": [
    "<font color=blue>continue</font> ifadesi break‘e göre biraz daha az kullanılan bir ifadedir. İşlevini tanımlamak gerekirse:\n",
    "\n",
    "Döngü herhangi bir yerde ve herhangi bir zamanda <font color=blue>continue</font> ifadesiyle karşılaştığı zaman geri kalan işlemlerini yapmadan direk bloğunun başına döner. <font color=blue>continue</font> ifadesinin görevini daha iyi kavrayabilmek için aşağıdaki örneği inceleyebiliriz:"
   ]
  },
  {
   "cell_type": "code",
   "execution_count": null,
   "metadata": {},
   "outputs": [],
   "source": [
    "toplam = 0\n",
    "\n",
    "while True:                                              # bu döngü dışarıdan bir etkiyle durdurulmadığı sürece çalışır\n",
    "    x = int(input(\"Bir sayı girin (bitirmek için -1): \"))\n",
    "    \n",
    "    if x == -1:                                          # durdurmak için -1 girmemiz break komutunu çalıştırır\n",
    "        break\n",
    "        \n",
    "    if x < 0 or x > 100:                      # istediğimiz aralıkta sayı gelmediyse \n",
    "        print(\"0-100 arası olmalı.\")          # istediğimiz şartı belirtiriz\n",
    "        continue                              # continue komutunu okuyan python tekrardan while kısmındaki şarta döner   \n",
    "        \n",
    "    toplam += x                               # eğer continue da takılmadıysa buraya gelip girilen sayıyı ekler\n",
    "\n",
    "print( \"Toplam:\", toplam)"
   ]
  },
  {
   "cell_type": "markdown",
   "metadata": {},
   "source": [
    "### Python'da Hata Tipleri"
   ]
  },
  {
   "cell_type": "markdown",
   "metadata": {},
   "source": [
    "Python programlarında bazen bir değişkenin tanımlanmadan kullanılmaya çalıştırılması , bazen de yapılamayacak bir aritmetik işlemin yapılması Pythonda hatalara yol açar. Ancak bu istisnai durumlarda hataların türüne göre programlarımızı daha güvenli bir şekilde yazabiliriz.Yani hata çıkarabilecek kodlarımızı öngörerek bu hataları programlarımızda yakalayabiliriz. Pythondaki bazı hatalara şunlar örnek verilebilir:"
   ]
  },
  {
   "cell_type": "code",
   "execution_count": 8,
   "metadata": {},
   "outputs": [
    {
     "ename": "NameError",
     "evalue": "name 'a' is not defined",
     "output_type": "error",
     "traceback": [
      "\u001b[1;31m---------------------------------------------------------------------------\u001b[0m",
      "\u001b[1;31mNameError\u001b[0m                                 Traceback (most recent call last)",
      "\u001b[1;32m<ipython-input-8-c245efe0a5a7>\u001b[0m in \u001b[0;36m<module>\u001b[1;34m\u001b[0m\n\u001b[1;32m----> 1\u001b[1;33m \u001b[0mprint\u001b[0m\u001b[1;33m(\u001b[0m\u001b[0ma\u001b[0m\u001b[1;33m)\u001b[0m \u001b[1;31m#Tanımlı değil, NameError hatası\u001b[0m\u001b[1;33m\u001b[0m\u001b[1;33m\u001b[0m\u001b[0m\n\u001b[0m",
      "\u001b[1;31mNameError\u001b[0m: name 'a' is not defined"
     ]
    }
   ],
   "source": [
    "print(a) #Tanımlı değil, NameError hatası"
   ]
  },
  {
   "cell_type": "code",
   "execution_count": 9,
   "metadata": {
    "scrolled": true
   },
   "outputs": [
    {
     "ename": "ValueError",
     "evalue": "invalid literal for int() with base 10: 'abc123'",
     "output_type": "error",
     "traceback": [
      "\u001b[1;31m---------------------------------------------------------------------------\u001b[0m",
      "\u001b[1;31mValueError\u001b[0m                                Traceback (most recent call last)",
      "\u001b[1;32m<ipython-input-9-2e3c099de6de>\u001b[0m in \u001b[0;36m<module>\u001b[1;34m\u001b[0m\n\u001b[1;32m----> 1\u001b[1;33m \u001b[0mint\u001b[0m\u001b[1;33m(\u001b[0m\u001b[1;34m\"abc123\"\u001b[0m\u001b[1;33m)\u001b[0m \u001b[1;31m#ValueError Hatası\u001b[0m\u001b[1;33m\u001b[0m\u001b[1;33m\u001b[0m\u001b[0m\n\u001b[0m",
      "\u001b[1;31mValueError\u001b[0m: invalid literal for int() with base 10: 'abc123'"
     ]
    }
   ],
   "source": [
    "int(\"abc123\") #ValueError Hatası"
   ]
  },
  {
   "cell_type": "code",
   "execution_count": 10,
   "metadata": {},
   "outputs": [
    {
     "ename": "ZeroDivisionError",
     "evalue": "division by zero",
     "output_type": "error",
     "traceback": [
      "\u001b[1;31m---------------------------------------------------------------------------\u001b[0m",
      "\u001b[1;31mZeroDivisionError\u001b[0m                         Traceback (most recent call last)",
      "\u001b[1;32m<ipython-input-10-89551b39432c>\u001b[0m in \u001b[0;36m<module>\u001b[1;34m\u001b[0m\n\u001b[1;32m----> 1\u001b[1;33m \u001b[1;36m2\u001b[0m \u001b[1;33m/\u001b[0m \u001b[1;36m0\u001b[0m  \u001b[1;31m#Bir sayı 0'a bölünemez, ZeroDivisionError\u001b[0m\u001b[1;33m\u001b[0m\u001b[1;33m\u001b[0m\u001b[0m\n\u001b[0m",
      "\u001b[1;31mZeroDivisionError\u001b[0m: division by zero"
     ]
    }
   ],
   "source": [
    "2 / 0  #Bir sayı 0'a bölünemez, ZeroDivisionError"
   ]
  },
  {
   "cell_type": "code",
   "execution_count": 11,
   "metadata": {},
   "outputs": [
    {
     "ename": "SyntaxError",
     "evalue": "invalid syntax (<ipython-input-11-53bf08b790db>, line 1)",
     "output_type": "error",
     "traceback": [
      "\u001b[1;36m  File \u001b[1;32m\"<ipython-input-11-53bf08b790db>\"\u001b[1;36m, line \u001b[1;32m1\u001b[0m\n\u001b[1;33m    print('itü'acm) #Syntax Error\u001b[0m\n\u001b[1;37m               ^\u001b[0m\n\u001b[1;31mSyntaxError\u001b[0m\u001b[1;31m:\u001b[0m invalid syntax\n"
     ]
    }
   ],
   "source": [
    "print('itü'acm) #Syntax Error"
   ]
  },
  {
   "cell_type": "markdown",
   "metadata": {},
   "source": [
    "### Hata Yakalama"
   ]
  },
  {
   "cell_type": "markdown",
   "metadata": {},
   "source": [
    "Şimdiye kadar yazdığımız programlarda programın kullanıcı tarafından nasıl kullanılmasını istiyorsak her zaman o şekilde kullanılacağını varsaydık ancak pratikte işler her zaman beklediğimiz gibi gitmeyebilir. Buna bizim sayı girilmesini istediğimiz yere karakter dizisi girilmesi gibi durumları örnek verebiliriz."
   ]
  },
  {
   "cell_type": "code",
   "execution_count": 2,
   "metadata": {},
   "outputs": [
    {
     "name": "stdout",
     "output_type": "stream",
     "text": [
      "ilk sayı: x\n",
      "ikinci sayı: y\n"
     ]
    },
    {
     "ename": "ValueError",
     "evalue": "invalid literal for int() with base 10: 'x'",
     "output_type": "error",
     "traceback": [
      "\u001b[1;31m---------------------------------------------------------------------------\u001b[0m",
      "\u001b[1;31mValueError\u001b[0m                                Traceback (most recent call last)",
      "\u001b[1;32m<ipython-input-2-41d2cc6e456b>\u001b[0m in \u001b[0;36m<module>\u001b[1;34m\u001b[0m\n\u001b[0;32m      2\u001b[0m \u001b[0mikinci_sayı\u001b[0m \u001b[1;33m=\u001b[0m \u001b[0minput\u001b[0m\u001b[1;33m(\u001b[0m\u001b[1;34m\"ikinci sayı: \"\u001b[0m\u001b[1;33m)\u001b[0m\u001b[1;33m\u001b[0m\u001b[1;33m\u001b[0m\u001b[0m\n\u001b[0;32m      3\u001b[0m \u001b[1;33m\u001b[0m\u001b[0m\n\u001b[1;32m----> 4\u001b[1;33m \u001b[0milk_sayı\u001b[0m \u001b[1;33m=\u001b[0m \u001b[0mint\u001b[0m\u001b[1;33m(\u001b[0m\u001b[0milk_sayı\u001b[0m\u001b[1;33m)\u001b[0m\u001b[1;33m\u001b[0m\u001b[1;33m\u001b[0m\u001b[0m\n\u001b[0m\u001b[0;32m      5\u001b[0m \u001b[0mikinci_sayı\u001b[0m \u001b[1;33m=\u001b[0m \u001b[0mint\u001b[0m\u001b[1;33m(\u001b[0m\u001b[0mikinci_sayı\u001b[0m\u001b[1;33m)\u001b[0m\u001b[1;33m\u001b[0m\u001b[1;33m\u001b[0m\u001b[0m\n\u001b[0;32m      6\u001b[0m \u001b[1;33m\u001b[0m\u001b[0m\n",
      "\u001b[1;31mValueError\u001b[0m: invalid literal for int() with base 10: 'x'"
     ]
    }
   ],
   "source": [
    "ilk_sayı = input(\"ilk sayı: \")\n",
    "ikinci_sayı = input(\"ikinci sayı: \")\n",
    "\n",
    "ilk_sayı = int(ilk_sayı)\n",
    "ikinci_sayı = int(ikinci_sayı)\n",
    "\n",
    "print(ilk_sayı, \"/\", ikinci_sayı, \"=\", ilk_sayı / ikinci_sayı)"
   ]
  },
  {
   "cell_type": "markdown",
   "metadata": {},
   "source": [
    "#### try-except"
   ]
  },
  {
   "cell_type": "markdown",
   "metadata": {},
   "source": [
    "Python’da hata yakalama işlemleri için **try... except...** bloklarından yararlanılır. \n",
    "\n",
    "Basit bir örnek olarak:"
   ]
  },
  {
   "cell_type": "code",
   "execution_count": 4,
   "metadata": {},
   "outputs": [
    {
     "name": "stdout",
     "output_type": "stream",
     "text": [
      "ilk sayı: x\n",
      "ikinci sayı: y\n",
      "Lütfen sadece sayı girin!\n"
     ]
    }
   ],
   "source": [
    "ilk_sayı    = input(\"ilk sayı: \")\n",
    "ikinci_sayı = input(\"ikinci sayı: \")\n",
    "\n",
    "try:\n",
    "    sayı1 = int(ilk_sayı)\n",
    "    sayı2 = int(ikinci_sayı)\n",
    "    print(sayı1, \"/\", sayı2, \"=\", sayı1 / sayı2)\n",
    "except ValueError:\n",
    "    print(\"Lütfen sadece sayı girin!\")"
   ]
  },
  {
   "cell_type": "markdown",
   "metadata": {},
   "source": [
    "Bu örnekte programın çökme sebebi bir veriyi sayıya dönüştürmek istediğimizde kullanıcının sayı yerine bir harf girerse programımız çöker. Bu yüzden hata alma ihtimalimiz en yüksek olan int(ilk_sayı) ve int(ikinci_sayı) kodlarını **try...** bloğu içine aldık. \n",
    "\n",
    "Veri dönüştürme işlemi sırasında kullanıcının uygun olmayan bir veri girmesi halinde üretilecek hata bir *ValueError*’dır. Bu yüzden **except...** bloğuna ValueError değerini koyduk.\n",
    "\n",
    "Aslında kodun anlamı gayet basit: Eğer try bloğu içinde belirtilen işlemler sırasında verilen error tipi ile karşılaşırsan bunu görmezden gel ve normal şartlar altında kullanıcıya göstereceğin hata mesajı yerine kullanıcıya altta verilen mesajı göster:"
   ]
  },
  {
   "cell_type": "markdown",
   "metadata": {},
   "source": [
    "**try**:\n",
    "\n",
    "    hata verebileceğini bildiğimiz kodlar\n",
    "    \n",
    "**except** *HataAdı*:\n",
    "\n",
    "    hata durumunda yapılacak işlem"
   ]
  },
  {
   "cell_type": "markdown",
   "metadata": {},
   "source": [
    "###### Birden fazla hata durumunda:"
   ]
  },
  {
   "cell_type": "markdown",
   "metadata": {},
   "source": [
    "Çoklu hata durumlarında en uygun çözüm her hata mesajına ayrı bir çıktı vermektir:"
   ]
  },
  {
   "cell_type": "code",
   "execution_count": null,
   "metadata": {},
   "outputs": [],
   "source": [
    "ikinci_sayı = input(\"ikinci sayı: \")\n",
    "\n",
    "try:\n",
    "    sayı1 = int(ilk_sayı)\n",
    "    sayı2 = int(ikinci_sayı) #input olarak 0 rakamı verildiğinde program ZeroDivisionError verir.\n",
    "    print(sayı1, \"/\", sayı2, \"=\", sayı1 / sayı2)\n",
    "except ZeroDivisionError:\n",
    "    print(\"Bir sayıyı 0'a bölemezsiniz!\")\n",
    "except ValueError:\n",
    "    print(\"Lütfen sadece sayı girin!\")"
   ]
  },
  {
   "cell_type": "markdown",
   "metadata": {},
   "source": [
    "Bunun dışında hataları gruplayıp hepsi için tek bir error mesajı verdirebiliriz:"
   ]
  },
  {
   "cell_type": "code",
   "execution_count": null,
   "metadata": {},
   "outputs": [],
   "source": [
    "ilk_sayı    = input(\"ilk sayı: \")\n",
    "ikinci_sayı = input(\"ikinci sayı: \")\n",
    "\n",
    "try:\n",
    "    sayı1 = int(ilk_sayı)\n",
    "    sayı2 = int(ikinci_sayı)\n",
    "    print(sayı1, \"/\", sayı2, \"=\", sayı1 / sayı2)\n",
    "except (ValueError, ZeroDivisionError):\n",
    "    print(\"Bir hata oluştu!\")"
   ]
  },
  {
   "cell_type": "code",
   "execution_count": null,
   "metadata": {},
   "outputs": [],
   "source": []
  },
  {
   "cell_type": "markdown",
   "metadata": {},
   "source": [
    "## Python'da Output Düzeni ve Formatlama"
   ]
  },
  {
   "cell_type": "markdown",
   "metadata": {},
   "source": [
    "Python'da <font color=green>print()</font> fonksiyonu programın output vermesini sağlar. <font color=green>print()</font>, bu programlama dilinde gömülü (built-in) bir fonksiyon olarak gelir. Python'da bu tarz fonksiyonların anlaşılması için <font color=green>help()</font> fonksiyonu vardır."
   ]
  },
  {
   "cell_type": "code",
   "execution_count": null,
   "metadata": {
    "scrolled": true
   },
   "outputs": [],
   "source": [
    "help(print)"
   ]
  },
  {
   "cell_type": "markdown",
   "metadata": {},
   "source": [
    "Burada bizim için önemli olan <font color=blue>_print(value, ..., sep=' ', end='\\n', file=sys.stdout, flush=False)_</font> satırıdır. Burada görülen;\n",
    "1. <font color=red>sep=' '</font> ifadesi, <font color=green>print()</font>'in içine yazılan çoklu değerlerin arasına default olarak boşluk koyduğunu gösterir.\n",
    "2. <font color=red>end='\\n'</font> ifadesi, <font color=green>print()</font>'in yazdırma işi her sonlandığında bir satır alta geçtiğini gösterir."
   ]
  },
  {
   "cell_type": "markdown",
   "metadata": {},
   "source": [
    "### 1. <font color=red>sep=' '</font> ifadesi"
   ]
  },
  {
   "cell_type": "markdown",
   "metadata": {},
   "source": [
    "<font color=green>print()</font>'in içine yazdırılacak çoklu elemanların arasında yer alacak ifadeleri belirler. Tırnak işaretlerinin arasına istenilen her şey koyulabilir. Default olarak bir adet space karakteri içerir."
   ]
  },
  {
   "cell_type": "code",
   "execution_count": 2,
   "metadata": {
    "scrolled": true
   },
   "outputs": [
    {
     "name": "stdout",
     "output_type": "stream",
     "text": [
      "1 :) 2 :) 3 :) 4 :) 5 :) 6 :) 7\n"
     ]
    }
   ],
   "source": [
    "print(1, 2, 3, 4, 5, 6, 7, sep=\" :) \")"
   ]
  },
  {
   "cell_type": "markdown",
   "metadata": {},
   "source": [
    "### 2. <font color=red>end=' '</font> ifadesi"
   ]
  },
  {
   "cell_type": "markdown",
   "metadata": {},
   "source": [
    "<font color=green>print()</font>'in yazdırma işi bittikten sonraki davranışını belirler. Tırnak işaretlerinin arasına istenilen her şey koyulabilir. Default olarak newline (<font color=red>'\\n'</font>) işareti vardır, yani bir alt satıra geçişi sağlar."
   ]
  },
  {
   "cell_type": "code",
   "execution_count": 3,
   "metadata": {},
   "outputs": [
    {
     "name": "stdout",
     "output_type": "stream",
     "text": [
      "1 2 3 4 5 6 7 :) "
     ]
    }
   ],
   "source": [
    "print(1, 2, 3, 4, 5, 6, 7, end=\" :) \")"
   ]
  },
  {
   "cell_type": "markdown",
   "metadata": {},
   "source": [
    "NOT: <font color=red>'\\n'</font> = new line, yani Python'da yeni satır bırakma işaretidir. Nasıl çalıştığını anlamak için aşağıdaki örneği inceleyelim."
   ]
  },
  {
   "cell_type": "code",
   "execution_count": 4,
   "metadata": {},
   "outputs": [
    {
     "name": "stdout",
     "output_type": "stream",
     "text": [
      "\n",
      " Bu ikinci satır olmalı \n",
      " \n",
      " Bu da dördüncü satır olmalı\n"
     ]
    }
   ],
   "source": [
    "print(\"\\n\", \"İkinci satır\", '\\n', \"\\n\", \"Dördüncü satır\")"
   ]
  },
  {
   "cell_type": "markdown",
   "metadata": {},
   "source": [
    "Örnekte görüldüğü gibi <font color=green>print()</font>:\n",
    "1. İlk <font color=blue>'\\n'</font> ifadesini gördüğünde yazdırma kısmında bir satır sonraya geçer. \n",
    "2. İkinci değer olarak <font color=blue>\"İkinci satır\"</font> ifadesi şuan bulunulan kısımdan, yani ikinci satırın başından yazdırılır.\n",
    "3. Üçüncü değer olarak <font color=blue>'\\n'</font> ifadesini gören <font color=green>print()</font>, bulunulan kısımdan bir alt satıra, yani <font color=blue>\"İkinci satır\"</font> ifadesinin sonundan üçüncü satırın başına geçer.\n",
    "4. Üçüncü satırın başında bulunurken değer olarak <font color=blue>'\\n'</font> ifadesini gören <font color=green>print()</font>, bulunulan kısımdan bir alt satıra, yani üçüncü satırın başından dördüncü satırın başına geçer.\n",
    "5. Beşinci ve son değer olarak <font color=blue>\"Dördüncü satır\"</font> ifadesini gören print, bulunulan yerden bu ifadeyi yazdırır, yani dördüncü satırın başından itibaren bu ifadeyi yazdırır."
   ]
  },
  {
   "cell_type": "markdown",
   "metadata": {},
   "source": [
    "## Formatlama"
   ]
  },
  {
   "cell_type": "markdown",
   "metadata": {},
   "source": [
    "Programlamada bazı yerlerde bir stringin içinde daha önceden tanımlı string, float, int vs. değerleri yerleştirmek isteyebiliriz. Böyle durumlar için Pythonda <font color=purple>format()</font> fonksiyonu bulunmaktadır. Örneğin, programımızda 2 tane tamsayı değerimiz var ve biz bunları ve toplamlarını bir string içinde ekrana bastırmak istiyoruz. Bunun için <font color=purple>format()</font> fonksiyonunu kullanabiliriz.\n",
    "\n",
    "format() metodunda süslü parantezlerle sabit veya değişkenlerin sahip oldukları değerlerinin yeri tutulur."
   ]
  },
  {
   "cell_type": "code",
   "execution_count": 1,
   "metadata": {},
   "outputs": [
    {
     "name": "stdout",
     "output_type": "stream",
     "text": [
      "Bir sayı giriniz: 8\n",
      "Girdiğiniz sayı: 8\n"
     ]
    }
   ],
   "source": [
    "n = input(\"Bir sayı giriniz: \")\n",
    "\n",
    "print(\"Girdiğiniz sayı: {}\".format(n))"
   ]
  },
  {
   "cell_type": "code",
   "execution_count": 4,
   "metadata": {
    "scrolled": true
   },
   "outputs": [
    {
     "name": "stdout",
     "output_type": "stream",
     "text": [
      "Lütfen bir sayı giriniz: 4\n",
      "Lütfen ikinci sayıyı giriniz: 5\n",
      "Girdiğiniz ilk sayı = 4 \n",
      "İkinci sayı = 5 \n",
      "Toplam = 9\n"
     ]
    }
   ],
   "source": [
    "ilk_sayi = int(input(\"Lütfen bir sayı giriniz: \"))\n",
    "ikinci_sayi = int(input(\"Lütfen ikinci sayıyı giriniz: \"))\n",
    "\n",
    "print(\"Girdiğiniz ilk sayı = {} {}İkinci sayı = {} {}Toplam = {}\".format(ilk_sayi,\"\\n\", ikinci_sayi,\n",
    "                                                                          \"\\n\", ilk_sayi + ikinci_sayi))"
   ]
  },
  {
   "cell_type": "markdown",
   "metadata": {},
   "source": [
    "Burada görüldüğü üzere print fonksiyonuyla bastırılacak herhangi bir stringin içinde, sırayla konulan süslü parantezlerin (<font color=purple>{}</font>) içine sırayla yazılacak olan değerler, <font color=purple>string.format(değerler)</font> şeklinde sırayla yazılır, virgülle ayrılır."
   ]
  },
  {
   "cell_type": "markdown",
   "metadata": {},
   "source": [
    "Değişkenlerin içine de köşeli parantezler konup sonradan formatlanabilir."
   ]
  },
  {
   "cell_type": "code",
   "execution_count": 2,
   "metadata": {},
   "outputs": [
    {
     "name": "stdout",
     "output_type": "stream",
     "text": [
      "Bir sayı giriniz: 7\n",
      "Girdiğiniz sayı: 7\n"
     ]
    }
   ],
   "source": [
    "n = input(\"Bir sayı giriniz: \")\n",
    "\n",
    "çıktı = \"Girdiğiniz sayı: {}\"\n",
    "print(çıktı.format(n))"
   ]
  },
  {
   "cell_type": "markdown",
   "metadata": {},
   "source": [
    "Değişkenler, print fonksiyonu dışında formatlanıp da ekrana yazdırılabilir."
   ]
  },
  {
   "cell_type": "code",
   "execution_count": 3,
   "metadata": {},
   "outputs": [
    {
     "name": "stdout",
     "output_type": "stream",
     "text": [
      "Bir sayı giriniz: 8\n",
      "Girdiğiniz sayı: 8\n"
     ]
    }
   ],
   "source": [
    "n = input(\"Bir sayı giriniz: \")\n",
    "\n",
    "çıktı_formatsız = \"Girdiğiniz sayı: {}\"\n",
    "çıktı_formatlı = çıktı.format(n)\n",
    "print(çıktı_formatlı)"
   ]
  },
  {
   "cell_type": "markdown",
   "metadata": {},
   "source": [
    "Değişken yerine direkt olarak sabit bir değer de yazılabilir."
   ]
  },
  {
   "cell_type": "code",
   "execution_count": 5,
   "metadata": {},
   "outputs": [
    {
     "name": "stdout",
     "output_type": "stream",
     "text": [
      "12\n"
     ]
    }
   ],
   "source": [
    "print(\"{}\".format(12))"
   ]
  },
  {
   "cell_type": "markdown",
   "metadata": {},
   "source": [
    "Sayıların virgülden sonraki basamak sayısı aşağıdaki şekilde formatlanabilir."
   ]
  },
  {
   "cell_type": "code",
   "execution_count": 6,
   "metadata": {},
   "outputs": [
    {
     "name": "stdout",
     "output_type": "stream",
     "text": [
      "12.00\n"
     ]
    }
   ],
   "source": [
    "print(\"{sayı:.2f}\".format(sayı = 12))"
   ]
  },
  {
   "cell_type": "code",
   "execution_count": 7,
   "metadata": {},
   "outputs": [
    {
     "name": "stdout",
     "output_type": "stream",
     "text": [
      "Ahmet'in boyu 187'dir\n"
     ]
    }
   ],
   "source": [
    "ad = \"Ahmet\"\n",
    "boy = 187\n",
    "\n",
    "print(f\"{ad}'in boyu {boy}'dir\")"
   ]
  },
  {
   "cell_type": "code",
   "execution_count": 8,
   "metadata": {},
   "outputs": [
    {
     "name": "stdout",
     "output_type": "stream",
     "text": [
      "Hüseyin Averbek 21 yaşındadır ve 88.35 kilodur.\n"
     ]
    }
   ],
   "source": [
    "ad = \"Hüseyin\"\n",
    "soyad = \"Averbek\"\n",
    "yaş = 21\n",
    "kilo = 88.351295\n",
    "\n",
    "print(f\"{ad} {soyad} {yaş} yaşındadır ve {kilo:.2f} kilodur.\")"
   ]
  },
  {
   "cell_type": "markdown",
   "metadata": {},
   "source": [
    "## Yüzde işareti yöntemi"
   ]
  },
  {
   "cell_type": "markdown",
   "metadata": {},
   "source": [
    "Yüzde işareti yönteminde yüzde işaretleriyle sabit veya değişkenlerin sahip oldukları değerlerinin yeri tutulur."
   ]
  },
  {
   "cell_type": "markdown",
   "metadata": {},
   "source": [
    "*   String değerlerinin yerini tutmak için %s\n",
    "*   Integer değerlerinin yerini tutmak için %d\n",
    "*   Float değerlerinin yerini tutmak için %f\n",
    "\n",
    "kullanılır.\n",
    "\n",
    "\n",
    "\n"
   ]
  },
  {
   "cell_type": "code",
   "execution_count": 9,
   "metadata": {},
   "outputs": [
    {
     "name": "stdout",
     "output_type": "stream",
     "text": [
      "Bir sayı giriniz: 5\n",
      "Girdiğiniz sayı: 5\n"
     ]
    }
   ],
   "source": [
    "n = int(input(\"Bir sayı giriniz: \"))\n",
    "\n",
    "print(\"Girdiğiniz sayı: %d\"%n)"
   ]
  },
  {
   "cell_type": "markdown",
   "metadata": {},
   "source": [
    "Yukarda da görüldüğü üzere, çıktıdan sonra tekrar bir yüzde işareti koyulup değişkenin adı yazılır."
   ]
  },
  {
   "cell_type": "code",
   "execution_count": null,
   "metadata": {},
   "outputs": [],
   "source": [
    "a = float(input())\n",
    "b = float(input())\n",
    "\n",
    "print(\"%.1f sayısının %.1f' sayısına bölümü %.1f'dir\"%(a,b,a/b))"
   ]
  }
 ],
 "metadata": {
  "kernelspec": {
   "display_name": "Python 3",
   "language": "python",
   "name": "python3"
  },
  "language_info": {
   "codemirror_mode": {
    "name": "ipython",
    "version": 3
   },
   "file_extension": ".py",
   "mimetype": "text/x-python",
   "name": "python",
   "nbconvert_exporter": "python",
   "pygments_lexer": "ipython3",
   "version": "3.8.5"
  }
 },
 "nbformat": 4,
 "nbformat_minor": 4
}
